{
 "cells": [
  {
   "cell_type": "markdown",
   "metadata": {
    "id": "Ndo4ERqnwQOU"
   },
   "source": [
    "##### Copyright 2020 The TensorFlow Authors."
   ]
  },
  {
   "cell_type": "code",
   "execution_count": 11,
   "metadata": {
    "id": "YfIk2es3hJEd",
    "tags": []
   },
   "outputs": [],
   "source": [
    "from IPython import display\n",
    "\n",
    "import glob\n",
    "import imageio\n",
    "import PIL\n",
    "import time\n",
    "import json\n",
    "from typing import List, Tuple, Dict, Optional\n",
    "import matplotlib.pyplot as plt\n",
    "import numpy as np\n",
    "import tensorflow as tf\n",
    "import tensorflow_probability as tfp\n",
    "tfk = tf.keras\n",
    "tfkl = tf.keras.layers\n",
    "# tf.debugging.set_log_device_placement(True)"
   ]
  },
  {
   "cell_type": "markdown",
   "metadata": {
    "id": "iYn4MdZnKCey"
   },
   "source": [
    "## Load the ACDC dataset\n",
    "\n",
    "Actually each patient in the ACDC dataset is a 4D volume (3 spatial dimension and one temporal one), where the myocard, richt and left ventricle are segmented in 2 time steps (end systolic (ES) and end diastolic (ED)). For an easier network structure and less memory requirements, the segmented time steps are sliced into 2D slices to be processed by the network. This was done beforehand and the resulting numpy vectors can be downloaded from [here](). Fruther, a \"D reshaping to 256x256 pixels was done beforehand to save all images in one big array."
   ]
  },
  {
   "cell_type": "code",
   "execution_count": 2,
   "metadata": {},
   "outputs": [
    {
     "name": "stderr",
     "output_type": "stream",
     "text": [
      "2022-01-04 10:43:58.384982: I tensorflow/stream_executor/platform/default/dso_loader.cc:48] Successfully opened dynamic library libcuda.so.1\n",
      "2022-01-04 10:43:58.408066: I tensorflow/stream_executor/cuda/cuda_gpu_executor.cc:982] successful NUMA node read from SysFS had negative value (-1), but there must be at least one NUMA node, so returning NUMA node zero\n",
      "2022-01-04 10:43:58.408466: I tensorflow/core/common_runtime/gpu/gpu_device.cc:1716] Found device 0 with properties: \n",
      "pciBusID: 0000:01:00.0 name: TITAN RTX computeCapability: 7.5\n",
      "coreClock: 1.77GHz coreCount: 72 deviceMemorySize: 23.65GiB deviceMemoryBandwidth: 625.94GiB/s\n",
      "2022-01-04 10:43:58.408478: I tensorflow/stream_executor/platform/default/dso_loader.cc:48] Successfully opened dynamic library libcudart.so.10.1\n",
      "2022-01-04 10:43:58.409395: I tensorflow/stream_executor/platform/default/dso_loader.cc:48] Successfully opened dynamic library libcublas.so.10\n",
      "2022-01-04 10:43:58.410321: I tensorflow/stream_executor/platform/default/dso_loader.cc:48] Successfully opened dynamic library libcufft.so.10\n",
      "2022-01-04 10:43:58.410475: I tensorflow/stream_executor/platform/default/dso_loader.cc:48] Successfully opened dynamic library libcurand.so.10\n",
      "2022-01-04 10:43:58.411505: I tensorflow/stream_executor/platform/default/dso_loader.cc:48] Successfully opened dynamic library libcusolver.so.10\n",
      "2022-01-04 10:43:58.412039: I tensorflow/stream_executor/platform/default/dso_loader.cc:48] Successfully opened dynamic library libcusparse.so.10\n",
      "2022-01-04 10:43:58.414156: I tensorflow/stream_executor/platform/default/dso_loader.cc:48] Successfully opened dynamic library libcudnn.so.7\n",
      "2022-01-04 10:43:58.414219: I tensorflow/stream_executor/cuda/cuda_gpu_executor.cc:982] successful NUMA node read from SysFS had negative value (-1), but there must be at least one NUMA node, so returning NUMA node zero\n",
      "2022-01-04 10:43:58.414638: I tensorflow/stream_executor/cuda/cuda_gpu_executor.cc:982] successful NUMA node read from SysFS had negative value (-1), but there must be at least one NUMA node, so returning NUMA node zero\n",
      "2022-01-04 10:43:58.415010: I tensorflow/core/common_runtime/gpu/gpu_device.cc:1858] Adding visible gpu devices: 0\n",
      "2022-01-04 10:43:58.415275: I tensorflow/core/platform/cpu_feature_guard.cc:142] This TensorFlow binary is optimized with oneAPI Deep Neural Network Library (oneDNN)to use the following CPU instructions in performance-critical operations:  AVX2 FMA\n",
      "To enable them in other operations, rebuild TensorFlow with the appropriate compiler flags.\n",
      "2022-01-04 10:43:58.419674: I tensorflow/core/platform/profile_utils/cpu_utils.cc:104] CPU Frequency: 3600000000 Hz\n",
      "2022-01-04 10:43:58.420121: I tensorflow/compiler/xla/service/service.cc:168] XLA service 0x5603cf5f1620 initialized for platform Host (this does not guarantee that XLA will be used). Devices:\n",
      "2022-01-04 10:43:58.420130: I tensorflow/compiler/xla/service/service.cc:176]   StreamExecutor device (0): Host, Default Version\n",
      "2022-01-04 10:43:58.484048: I tensorflow/stream_executor/cuda/cuda_gpu_executor.cc:982] successful NUMA node read from SysFS had negative value (-1), but there must be at least one NUMA node, so returning NUMA node zero\n",
      "2022-01-04 10:43:58.484546: I tensorflow/compiler/xla/service/service.cc:168] XLA service 0x5603d146aad0 initialized for platform CUDA (this does not guarantee that XLA will be used). Devices:\n",
      "2022-01-04 10:43:58.484556: I tensorflow/compiler/xla/service/service.cc:176]   StreamExecutor device (0): TITAN RTX, Compute Capability 7.5\n",
      "2022-01-04 10:43:58.484676: I tensorflow/stream_executor/cuda/cuda_gpu_executor.cc:982] successful NUMA node read from SysFS had negative value (-1), but there must be at least one NUMA node, so returning NUMA node zero\n",
      "2022-01-04 10:43:58.485050: I tensorflow/core/common_runtime/gpu/gpu_device.cc:1716] Found device 0 with properties: \n",
      "pciBusID: 0000:01:00.0 name: TITAN RTX computeCapability: 7.5\n",
      "coreClock: 1.77GHz coreCount: 72 deviceMemorySize: 23.65GiB deviceMemoryBandwidth: 625.94GiB/s\n",
      "2022-01-04 10:43:58.485067: I tensorflow/stream_executor/platform/default/dso_loader.cc:48] Successfully opened dynamic library libcudart.so.10.1\n",
      "2022-01-04 10:43:58.485079: I tensorflow/stream_executor/platform/default/dso_loader.cc:48] Successfully opened dynamic library libcublas.so.10\n",
      "2022-01-04 10:43:58.485088: I tensorflow/stream_executor/platform/default/dso_loader.cc:48] Successfully opened dynamic library libcufft.so.10\n",
      "2022-01-04 10:43:58.485096: I tensorflow/stream_executor/platform/default/dso_loader.cc:48] Successfully opened dynamic library libcurand.so.10\n",
      "2022-01-04 10:43:58.485104: I tensorflow/stream_executor/platform/default/dso_loader.cc:48] Successfully opened dynamic library libcusolver.so.10\n",
      "2022-01-04 10:43:58.485111: I tensorflow/stream_executor/platform/default/dso_loader.cc:48] Successfully opened dynamic library libcusparse.so.10\n",
      "2022-01-04 10:43:58.485119: I tensorflow/stream_executor/platform/default/dso_loader.cc:48] Successfully opened dynamic library libcudnn.so.7\n",
      "2022-01-04 10:43:58.485151: I tensorflow/stream_executor/cuda/cuda_gpu_executor.cc:982] successful NUMA node read from SysFS had negative value (-1), but there must be at least one NUMA node, so returning NUMA node zero\n",
      "2022-01-04 10:43:58.485533: I tensorflow/stream_executor/cuda/cuda_gpu_executor.cc:982] successful NUMA node read from SysFS had negative value (-1), but there must be at least one NUMA node, so returning NUMA node zero\n",
      "2022-01-04 10:43:58.485888: I tensorflow/core/common_runtime/gpu/gpu_device.cc:1858] Adding visible gpu devices: 0\n",
      "2022-01-04 10:43:58.485904: I tensorflow/stream_executor/platform/default/dso_loader.cc:48] Successfully opened dynamic library libcudart.so.10.1\n",
      "2022-01-04 10:43:58.750236: I tensorflow/core/common_runtime/gpu/gpu_device.cc:1257] Device interconnect StreamExecutor with strength 1 edge matrix:\n",
      "2022-01-04 10:43:58.750252: I tensorflow/core/common_runtime/gpu/gpu_device.cc:1263]      0 \n",
      "2022-01-04 10:43:58.750256: I tensorflow/core/common_runtime/gpu/gpu_device.cc:1276] 0:   N \n",
      "2022-01-04 10:43:58.750379: I tensorflow/stream_executor/cuda/cuda_gpu_executor.cc:982] successful NUMA node read from SysFS had negative value (-1), but there must be at least one NUMA node, so returning NUMA node zero\n",
      "2022-01-04 10:43:58.750781: I tensorflow/stream_executor/cuda/cuda_gpu_executor.cc:982] successful NUMA node read from SysFS had negative value (-1), but there must be at least one NUMA node, so returning NUMA node zero\n",
      "2022-01-04 10:43:58.751142: I tensorflow/core/common_runtime/gpu/gpu_device.cc:1402] Created TensorFlow device (/job:localhost/replica:0/task:0/device:GPU:0 with 16634 MB memory) -> physical GPU (device: 0, name: TITAN RTX, pci bus id: 0000:01:00.0, compute capability: 7.5)\n"
     ]
    },
    {
     "data": {
      "text/plain": [
       "{'0': 'DCM', '1': 'HCM', '2': 'MINF', '3': 'NOR', '4': 'RV'}"
      ]
     },
     "execution_count": 2,
     "metadata": {},
     "output_type": "execute_result"
    }
   ],
   "source": [
    "dataset = np.load(\"acdc_data/acdc_data_one_hot.npz\")\n",
    "train_images = dataset[\"train_imgs\"].astype(np.float32)\n",
    "train_labels = dataset[\"train_labels\"]\n",
    "test_images = dataset[\"test_imgs\"].astype(np.float32)\n",
    "test_labels = dataset[\"test_labels\"]\n",
    "\n",
    "with open('acdc_data/label_assignment.json') as f:\n",
    "    label_assignment = json.load(f)\n",
    "\n",
    "train_dataset = tf.data.Dataset.from_tensor_slices(train_images).shuffle(len(train_images))\n",
    "test_dataset = tf.data.Dataset.from_tensor_slices(test_images).shuffle(len(test_images))\n",
    "label_assignment"
   ]
  },
  {
   "cell_type": "markdown",
   "metadata": {},
   "source": [
    "Why no preprocessing here?"
   ]
  },
  {
   "cell_type": "code",
   "execution_count": 3,
   "metadata": {
    "id": "VGLbvBEmjK0a",
    "tags": []
   },
   "outputs": [],
   "source": [
    "def downsampling_block(filters: int) -> tfk.Sequential:\n",
    "    return tfk.Sequential([\n",
    "        tfkl.Conv2D(filters=filters, kernel_size=3, strides=2, activation='relu'),\n",
    "        tfkl.Conv2D(filters=filters, kernel_size=3, strides=1, activation='relu', padding='same')\n",
    "    ])\n",
    "\n",
    "def upsampling_block(filters: int) -> tfk.Sequential:\n",
    "    return tfk.Sequential([\n",
    "        tfkl.Conv2DTranspose(filters=filters, kernel_size=3, strides=2, activation='relu', padding='same'),\n",
    "        tfkl.Conv2DTranspose(filters=filters, kernel_size=3, strides=1, activation='relu', padding='same')\n",
    "    ])\n",
    "\n",
    "class CVAE(tfk.Model):\n",
    "    \"\"\"Convolutional variational autoencoder.\"\"\"\n",
    "\n",
    "    def __init__(self, \n",
    "                 latent_dim: int, \n",
    "                 filters: List[int] = [32, 64],\n",
    "                 n_classes: int = 1,\n",
    "                 input_shape: Tuple[int, int, int] = (28, 28, 1)):\n",
    "        super(CVAE, self).__init__()\n",
    "        self.latent_dim = latent_dim\n",
    "        self.n_classes = n_classes\n",
    "        enc_convs = [downsampling_block(f) for f in filters]\n",
    "        dec_convs = [upsampling_block(f) for f in filters]\n",
    "        self.encoder = tfk.Sequential([\n",
    "            tfkl.InputLayer(input_shape=input_shape),\n",
    "            *enc_convs,\n",
    "            tfkl.Flatten(),\n",
    "            # No activation\n",
    "            tfkl.Dense(latent_dim + latent_dim),\n",
    "        ])\n",
    "        \n",
    "        h = w = int(input_shape[0] / 2**len(filters))\n",
    "        self.decoder = tfk.Sequential([\n",
    "            tfkl.InputLayer(input_shape=(latent_dim,)),\n",
    "            tfkl.Dense(units=h*w*32, activation=tf.nn.relu),\n",
    "            tfkl.Reshape(target_shape=(h, w, 32)),\n",
    "            *dec_convs,\n",
    "            # No activation\n",
    "            tfkl.Conv2D(filters=n_classes, kernel_size=3, strides=1, padding='same'),\n",
    "        ])\n",
    "\n",
    "    @tf.function\n",
    "    def sample(self, eps=None):\n",
    "        if eps is None:\n",
    "            eps = tf.random.normal(shape=(100, self.latent_dim))\n",
    "        return self.decode(eps, apply_sigmoid=True)\n",
    "\n",
    "    def encode(self, x):\n",
    "        mean, logvar = tf.split(self.encoder(x), num_or_size_splits=2, axis=1)\n",
    "        eps = tf.random.normal(shape=mean.shape)\n",
    "        z = eps * tf.exp(logvar * .5) + mean\n",
    "        return z, mean, logvar\n",
    "\n",
    "    def decode(self, z, apply_sigmoid=False):\n",
    "        logits = self.decoder(z)\n",
    "        if apply_sigmoid:\n",
    "            if self.n_classes == 1:\n",
    "                probs = tf.sigmoid(logits)\n",
    "            else:\n",
    "                probs = tf.math.argmax(tf.nn.softmax(logits), axis=-1)\n",
    "            return probs\n",
    "        return logits"
   ]
  },
  {
   "cell_type": "code",
   "execution_count": 4,
   "metadata": {
    "id": "iWCn_PVdEJZ7",
    "tags": []
   },
   "outputs": [],
   "source": [
    "def log_normal_pdf(sample: tf.Tensor, mean: tf.Tensor, logvar: tf.Tensor, raxis: int = 1) -> tf.Tensor:\n",
    "    log2pi = tf.math.log(2. * np.pi)\n",
    "    return tf.reduce_sum(\n",
    "        -.5 * ((sample - mean) ** 2. * tf.exp(-logvar) + logvar + log2pi),\n",
    "        axis=raxis)\n",
    "\n",
    "def kl_divergence(mean: tf.Tensor, sd: tf.Tensor) -> tf.Tensor:\n",
    "    return - 0.5 * tf.reduce_sum(\n",
    "            1 + tf.math.log(tf.math.square(sd)) - tf.math.square(mean) - tf.math.square(sd),\n",
    "            axis=1)\n",
    "\n",
    "def compute_loss(model: tfk.Model, \n",
    "                 x: tf.Tensor, \n",
    "                 loss: str = \"cross_entropy\", \n",
    "                 analytic_kl: bool = False, \n",
    "                 beta: float = 1.) -> Tuple[tf.Tensor, ...]:\n",
    "\n",
    "    # forward pass\n",
    "    z, mean, logvar = model.encode(x)\n",
    "    x_logit = model.decode(z)\n",
    "    \n",
    "    # compute neg log likelihood\n",
    "    if loss == \"cross_entropy\":\n",
    "        cross_ent = tf.nn.softmax_cross_entropy_with_logits(logits=x_logit, labels=x)\n",
    "        logpx_z = -tf.reduce_sum(cross_ent, axis=[1, 2])#, 3])\n",
    "    elif loss == \"mse\":\n",
    "        logpx_z = tf.reduce_mean((x - x_logit)**2 / np.prod(x.shape), axis=[1, 2])#, 3])\n",
    "        \n",
    "    # compute kl divergence\n",
    "    if analytic_kl:\n",
    "        sd = tf.exp(logvar * .5)\n",
    "        kl_div = kl_divergence(mean, sd)\n",
    "    else:\n",
    "        logpz = log_normal_pdf(z, 0., 0.)\n",
    "        logqz_x = log_normal_pdf(z, mean, logvar)\n",
    "        kl_div = logpz - logqz_x\n",
    "    kl_div *= beta\n",
    "    \n",
    "    return -tf.reduce_mean(logpx_z + kl_div), logpx_z, kl_div\n",
    "\n",
    "@tf.function\n",
    "def train_step(model: tfk.Model, \n",
    "               x: tf.Tensor, \n",
    "               optimizer: tfk.optimizers.Optimizer, \n",
    "               loss: str = \"cross_entropy\",\n",
    "               analytic_kl: bool = False,\n",
    "               beta: float = 1.) -> Tuple[tf.Tensor, ...]:\n",
    "    \"\"\"Executes one training step and returns the loss.\n",
    "\n",
    "    This function computes the loss and gradients, and uses the latter to\n",
    "    update the model's parameters.\n",
    "    \"\"\"\n",
    "    with tf.GradientTape() as tape:\n",
    "        elbo, nll, kl_div = compute_loss(model, x)\n",
    "    gradients = tape.gradient(elbo, model.trainable_variables)\n",
    "    optimizer.apply_gradients(zip(gradients, model.trainable_variables))\n",
    "    return elbo, nll, kl_div"
   ]
  },
  {
   "cell_type": "markdown",
   "metadata": {},
   "source": [
    "# Hyperparameter"
   ]
  },
  {
   "cell_type": "markdown",
   "metadata": {},
   "source": [
    "### Questions\n",
    "\n",
    "Why higher latent dim?\n",
    "\n",
    "Why is cross entropy better suited as loss function in this case?"
   ]
  },
  {
   "cell_type": "code",
   "execution_count": 5,
   "metadata": {},
   "outputs": [],
   "source": [
    "EPOCHS = 20\n",
    "BATCH_SIZE = 32\n",
    "LR = 1e-3\n",
    "LATENT_DIM = 10\n",
    "LOSS = \"cross_entropy\"\n",
    "ANALYTIC_KL = True\n",
    "BETA = 1.\n",
    "FILTERS = [32, 64, 64]\n",
    "N_CLASSES = 4\n",
    "INPUT_SHAPE = (256, 256, N_CLASSES)\n",
    "\n",
    "train_dataset = train_dataset.batch(BATCH_SIZE)\n",
    "test_dataset = test_dataset.batch(BATCH_SIZE)\n",
    "num_examples_to_generate = 16"
   ]
  },
  {
   "cell_type": "code",
   "execution_count": 6,
   "metadata": {},
   "outputs": [],
   "source": [
    "model = CVAE(LATENT_DIM, filters=FILTERS, input_shape=INPUT_SHAPE, n_classes=N_CLASSES)\n",
    "optimizer = tfk.optimizers.Adam(LR)"
   ]
  },
  {
   "cell_type": "code",
   "execution_count": 7,
   "metadata": {
    "id": "RmdVsmvhPxyy",
    "tags": []
   },
   "outputs": [],
   "source": [
    "def from_one_hot(img_one_hot: np.ndarray) -> np.ndarray:\n",
    "    img = np.zeros(img_one_hot.shape[:-1])\n",
    "    for i in range(img_one_hot.shape[-1]):\n",
    "        img[img_one_hot[...,i].astype(bool)] = i\n",
    "    return img\n",
    "\n",
    "def plot_test_sample(test_sample: tf.Tensor) -> None:\n",
    "    if not isinstance(test_sample, np.ndarray):\n",
    "        test_sample = test_sample.numpy()\n",
    "    fig = plt.figure(figsize=(4, 4))\n",
    "    \n",
    "    for i in range(test_sample.shape[0]):\n",
    "        plt.subplot(4, 4, i + 1)\n",
    "        plt.imshow(test_sample[i, :, :], cmap='gray')\n",
    "        plt.axis('off')\n",
    "    \n",
    "    plt.tight_layout()\n",
    "    plt.show()\n",
    "\n",
    "def generate_images(model: tfk.Model, test_sample: tf.Tensor) -> None:\n",
    "    z, mean, logvar = model.encode(test_sample)\n",
    "    predictions = model.sample(z)\n",
    "    plot_test_sample(predictions)"
   ]
  },
  {
   "cell_type": "code",
   "execution_count": 8,
   "metadata": {
    "id": "swCyrbqQQ-Ri",
    "tags": []
   },
   "outputs": [
    {
     "data": {
      "image/png": "[encoded data removed]",
      "text/plain": [
       "<Figure size 288x288 with 16 Axes>"
      ]
     },
     "metadata": {
      "needs_background": "light"
     },
     "output_type": "display_data"
    }
   ],
   "source": [
    "# Pick a sample of the test set for generating output images\n",
    "assert BATCH_SIZE >= num_examples_to_generate\n",
    "for test_batch in test_dataset.take(1):\n",
    "    test_sample = test_batch[0:num_examples_to_generate, :, :, :]\n",
    "plot_test_sample(from_one_hot(test_sample.numpy()))"
   ]
  },
  {
   "cell_type": "code",
   "execution_count": 9,
   "metadata": {
    "id": "2M7LmLtGEMQJ",
    "tags": []
   },
   "outputs": [
    {
     "name": "stdout",
     "output_type": "stream",
     "text": [
      "Epoch: 20, Test set ELBO: 1982.44, time elapse for current epoch: 3.89\n"
     ]
    },
    {
     "data": {
      "image/png": "[encoded data removed]",
      "text/plain": [
       "<Figure size 288x288 with 16 Axes>"
      ]
     },
     "metadata": {
      "needs_background": "light"
     },
     "output_type": "display_data"
    }
   ],
   "source": [
    "generate_images(model, test_sample)\n",
    "\n",
    "for epoch in range(1, EPOCHS + 1):\n",
    "    start_time = time.time()\n",
    "    for train_x in train_dataset:\n",
    "        elbo, nll, kl_div = train_step(model, train_x, optimizer, loss=LOSS, analytic_kl=ANALYTIC_KL, beta=BETA)\n",
    "    end_time = time.time()\n",
    "\n",
    "    for test_x in test_dataset:\n",
    "        elbo, nll, kl_div = compute_loss(model, test_x, loss=LOSS, analytic_kl=ANALYTIC_KL, beta=BETA)\n",
    "\n",
    "    display.clear_output(wait=False)\n",
    "    print(f'Epoch: {epoch}, Test set ELBO: {elbo.numpy():.2f}, time elapse for current epoch: {end_time - start_time:.2f}')\n",
    "    generate_images(model, test_sample)"
   ]
  },
  {
   "cell_type": "markdown",
   "metadata": {
    "id": "PeunRU6TSumT"
   },
   "source": [
    "### Display the structure of the latent space\n",
    "\n",
    "We explore the different clusters that are formed in latent space during training. Because our latent space has $\\mathrm{dim} \\geq 2$, we must use a dimensionality reduction technique to project to 2 dimensions for which ussually t-SNE is used."
   ]
  },
  {
   "cell_type": "code",
   "execution_count": 15,
   "metadata": {},
   "outputs": [],
   "source": [
    "from sklearn.manifold import TSNE\n",
    "\n",
    "def plot_latent_space(model: tfk.Model, test_images: np.ndarray, test_labels: np.ndarray, label_assignment: Optional[Dict[int, str]] = None) -> None:\n",
    "    zs = np.array([model.encode(test_x[None,...,None])[0].numpy()[0].tolist() for test_x in test_images])\n",
    "    if zs.shape[-1] > 2: # check if latent_dim > 2 -> dimensionality reduction with tsne for plotting purposes\n",
    "        tsne = TSNE()\n",
    "        zs = tsne.fit_transform(zs)\n",
    "    zs = {n: zs[test_labels == n] for n in range(int(test_labels.max() + 1))}\n",
    "    for n, zs_n in zs.items():\n",
    "        label = label_assignment[str(n)] if label_assignment is not None else n\n",
    "        plt.scatter(zs_n[:,0], zs_n[:,1], label=label)\n",
    "    plt.legend()\n",
    "    plt.show()"
   ]
  },
  {
   "cell_type": "code",
   "execution_count": 16,
   "metadata": {},
   "outputs": [
    {
     "data": {
      "image/png": "[encoded data removed]",
      "text/plain": [
       "<Figure size 432x288 with 1 Axes>"
      ]
     },
     "metadata": {
      "needs_background": "light"
     },
     "output_type": "display_data"
    }
   ],
   "source": [
    "plot_latent_space(model, test_images, test_labels, label_assignment)"
   ]
  },
  {
   "cell_type": "code",
   "execution_count": null,
   "metadata": {},
   "outputs": [],
   "source": []
  }
 ],
 "metadata": {
  "accelerator": "GPU",
  "colab": {
   "collapsed_sections": [],
   "name": "cvae.ipynb",
   "toc_visible": true
  },
  "kernelspec": {
   "display_name": "syds",
   "language": "python",
   "name": "syds"
  },
  "language_info": {
   "codemirror_mode": {
    "name": "ipython",
    "version": 3
   },
   "file_extension": ".py",
   "mimetype": "text/x-python",
   "name": "python",
   "nbconvert_exporter": "python",
   "pygments_lexer": "ipython3",
   "version": "3.9.6"
  }
 },
 "nbformat": 4,
 "nbformat_minor": 4
}
